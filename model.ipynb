{
 "cells": [
  {
   "cell_type": "code",
   "execution_count": 1,
   "metadata": {},
   "outputs": [],
   "source": [
    "import pandas as pd\n",
    "from sklearn.feature_extraction.text import TfidfVectorizer\n",
    "from sklearn.metrics.pairwise import linear_kernel\n",
    "import pickle\n",
    "\n",
    "class MovieRecommender:\n",
    "    def __init__(self, movies):\n",
    "        self.movies = movies\n",
    "        self.titles = movies['title']\n",
    "        self.indices = pd.Series(movies.index, index=movies['title'])\n",
    "        \n",
    "        # Initialize TF-IDF matrix based on genres\n",
    "        self.cv = TfidfVectorizer()\n",
    "        self.tfidf_matrix = self.cv.fit_transform(movies['genres'])\n",
    "        \n",
    "        # Compute cosine similarity matrix\n",
    "        self.cosine_sim = linear_kernel(self.tfidf_matrix, self.tfidf_matrix)\n",
    "    \n",
    "    def get_similar_movies(self, title, top_n=10):\n",
    "        if title not in self.indices:\n",
    "            return \"Movie not found\"\n",
    "        \n",
    "        # Get the index of the movie\n",
    "        idx = self.indices[title]\n",
    "        \n",
    "        # Pairwise cosine similarity scores\n",
    "        sim_scores = list(enumerate(self.cosine_sim[idx]))\n",
    "        sim_scores = sorted(sim_scores, key=lambda x: x[1], reverse=True)\n",
    "        \n",
    "        # Get the indices of top_n similar movies\n",
    "        sim_scores = sim_scores[1:top_n + 1]\n",
    "        movie_indices = [i[0] for i in sim_scores]\n",
    "        \n",
    "        # Return the top_n movie titles\n",
    "        return self.titles.iloc[movie_indices]\n",
    "\n",
    "# Load movie data\n",
    "movies = pd.read_csv('movies.csv')\n",
    "\n",
    "# Initialize and save the model\n",
    "recommender = MovieRecommender(movies)\n",
    "\n",
    "with open(\"model.pkl\", \"wb\") as file:\n",
    "    pickle.dump(recommender, file)\n"
   ]
  }
 ],
 "metadata": {
  "kernelspec": {
   "display_name": "Python 3",
   "language": "python",
   "name": "python3"
  },
  "language_info": {
   "codemirror_mode": {
    "name": "ipython",
    "version": 3
   },
   "file_extension": ".py",
   "mimetype": "text/x-python",
   "name": "python",
   "nbconvert_exporter": "python",
   "pygments_lexer": "ipython3",
   "version": "3.9.6"
  }
 },
 "nbformat": 4,
 "nbformat_minor": 2
}
