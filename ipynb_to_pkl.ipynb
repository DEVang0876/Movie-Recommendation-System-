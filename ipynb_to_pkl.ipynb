{
 "cells": [
  {
   "cell_type": "code",
   "execution_count": 2,
   "id": "6d5a64e6-5b32-4d93-b63b-afdc85e03448",
   "metadata": {},
   "outputs": [
    {
     "name": "stdout",
     "output_type": "stream",
     "text": [
      "Model variable not found in the notebook.\n"
     ]
    }
   ],
   "source": [
    "import pickle\n",
    "import nbformat\n",
    "\n",
    "# Load the Jupyter notebook\n",
    "with open('model.ipynb', 'r', encoding='utf-8') as f:\n",
    "    nb = nbformat.read(f, as_version=4)\n",
    "\n",
    "# Find and execute cells containing code\n",
    "model = None\n",
    "for cell in nb.cells:\n",
    "    if cell.cell_type == 'code':\n",
    "        exec(cell.source)\n",
    "\n",
    "# Ensure 'model' variable contains your trained model\n",
    "if model is not None:\n",
    "    # Save the model to a .pkl file\n",
    "    with open('model.pkl', 'wb') as f:\n",
    "        pickle.dump(model, f)\n",
    "    print(\"Model saved as model.pkl\")\n",
    "else:\n",
    "    print(\"Model variable not found in the notebook.\")\n"
   ]
  },
  {
   "cell_type": "code",
   "execution_count": null,
   "id": "b621f1bf-5087-4ad1-962e-1a505187826e",
   "metadata": {},
   "outputs": [],
   "source": []
  }
 ],
 "metadata": {
  "kernelspec": {
   "display_name": "Python 3 (ipykernel)",
   "language": "python",
   "name": "python3"
  },
  "language_info": {
   "codemirror_mode": {
    "name": "ipython",
    "version": 3
   },
   "file_extension": ".py",
   "mimetype": "text/x-python",
   "name": "python",
   "nbconvert_exporter": "python",
   "pygments_lexer": "ipython3",
   "version": "3.12.4"
  }
 },
 "nbformat": 4,
 "nbformat_minor": 5
}
